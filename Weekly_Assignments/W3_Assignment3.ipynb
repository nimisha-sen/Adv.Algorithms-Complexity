{
 "cells": [
  {
   "cell_type": "markdown",
   "metadata": {},
   "source": [
    "#### Assignment 3\n",
    "Dijkstra's algorithm is typically designed to find the shortest path in a graph, and it may not be directly applicable to finding the longest path. However, you can modify the approach to find the longest path by negating the weights of the edges and applying the algorithm. This way, the algorithm will find the path with the maximum total negated weight, which is equivalent to finding the longest path when the weights are non-negative.\n",
    "\n",
    "Here's a modified version of Dijkstra's algorithm to find the longest path in a directed acyclic graph (DAG):"
   ]
  },
  {
   "cell_type": "code",
   "execution_count": 1,
   "metadata": {},
   "outputs": [
    {
     "name": "stdout",
     "output_type": "stream",
     "text": [
      "Longest paths from node A:\n",
      "To node A: 0\n",
      "To node B: 2\n",
      "To node C: 3\n",
      "To node D: 8\n"
     ]
    }
   ],
   "source": [
    "from collections import defaultdict\n",
    "import heapq\n",
    "\n",
    "def longest_path_dag(graph, start):\n",
    "    # Step 1: Topological Sort\n",
    "    def topological_sort():\n",
    "        visited = set()\n",
    "        stack = []\n",
    "\n",
    "        def dfs(node):\n",
    "            nonlocal visited\n",
    "            visited.add(node)\n",
    "            for neighbor, _ in graph[node]:\n",
    "                if neighbor not in visited:\n",
    "                    dfs(neighbor)\n",
    "            stack.append(node)\n",
    "\n",
    "        for node in graph:\n",
    "            if node not in visited:\n",
    "                dfs(node)\n",
    "\n",
    "        return stack[::-1]\n",
    "\n",
    "    # Step 2: Initialize distances and predecessors\n",
    "    distances = {node: float('-inf') for node in graph}\n",
    "    distances[start] = 0\n",
    "\n",
    "    # Step 3: Perform Dijkstra's algorithm on the reversed graph\n",
    "    top_order = topological_sort()\n",
    "\n",
    "    for node in top_order:\n",
    "        for neighbor, weight in graph[node]:\n",
    "            if distances[node] + weight > distances[neighbor]:\n",
    "                distances[neighbor] = distances[node] + weight\n",
    "\n",
    "    return distances\n",
    "\n",
    "# Example Usage\n",
    "graph = {\n",
    "    'A': [('B', 2), ('C', 3)],\n",
    "    'B': [('D', 1)],\n",
    "    'C': [('D', 5)],\n",
    "    'D': []\n",
    "}\n",
    "\n",
    "start_node = 'A'\n",
    "result = longest_path_dag(graph, start_node)\n",
    "\n",
    "print(f\"Longest paths from node {start_node}:\")\n",
    "for node, distance in result.items():\n",
    "    print(f\"To node {node}: {distance}\")\n"
   ]
  },
  {
   "cell_type": "markdown",
   "metadata": {},
   "source": [
    "In this example, the graph represents a DAG with weighted edges. The longest_path_dag function finds the longest paths from a specified starting node to all other nodes in the graph. The distances are represented as negative values to account for the negation of the weights. The result will provide the longest paths for each node in the graph."
   ]
  }
 ],
 "metadata": {
  "kernelspec": {
   "display_name": "base",
   "language": "python",
   "name": "python3"
  },
  "language_info": {
   "codemirror_mode": {
    "name": "ipython",
    "version": 3
   },
   "file_extension": ".py",
   "mimetype": "text/x-python",
   "name": "python",
   "nbconvert_exporter": "python",
   "pygments_lexer": "ipython3",
   "version": "3.10.13"
  }
 },
 "nbformat": 4,
 "nbformat_minor": 2
}

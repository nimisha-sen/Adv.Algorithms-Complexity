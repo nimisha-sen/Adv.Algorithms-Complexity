{
 "cells": [
  {
   "cell_type": "markdown",
   "metadata": {},
   "source": [
    "#### Assignment 1 - Counting Sort\n",
    "\n",
    "Implement following Pseudo Code in the programming language of your choice (keep it OOP).\n",
    "\n",
    "Input array A contains only integers from 1 to M algorithm CountSort(A[1,…,n])\n",
    "\n",
    "B[1…M] <= [0,…,0] // Declare array with the length M\n",
    "\n",
    "For j = 1 to n\n",
    "\n",
    "B[A[j]] <= B[A[j]] + 1\n",
    "\n",
    "For i = 2 to M\n",
    "\n",
    "B[i] <= B[i] + B[i-1]\n",
    "\n",
    "For j = n to 1\n",
    "\n",
    "A’[B[A[j]]] <= A[j]\n",
    "\n",
    "B[A[j]] <= B[A[j]] – 1\n",
    "\n",
    "Find out the complexity of this Algorithm.\n"
   ]
  },
  {
   "cell_type": "markdown",
   "metadata": {},
   "source": [
    "##### a. Implementation of the CountSort algorithm using Python:"
   ]
  },
  {
   "cell_type": "code",
   "execution_count": 1,
   "metadata": {},
   "outputs": [
    {
     "name": "stdout",
     "output_type": "stream",
     "text": [
      "Original Array: [4, 2, 1, 5, 3, 4, 2, 1]\n",
      "Sorted Array: [1, 1, 2, 2, 3, 4, 4, 5]\n"
     ]
    }
   ],
   "source": [
    "class CountSort:\n",
    "    def __init__(self, array, M):\n",
    "        # Constructor to initialise the object with the input array \n",
    "        # and maximum value (M)\n",
    "        self.array = array \n",
    "        self.M = M\n",
    "        # B is an auxiliary array for counting occurrences of elements\n",
    "        self.B = [0] * (M + 1)\n",
    "\n",
    "    def count_sort(self):\n",
    "        n = len(self.array)\n",
    "        A_prime = [0] * (n + 1) # array that will store the sorted elements.\n",
    "\n",
    "        # 1. Count occurrences of each element in input array(A)\n",
    "        for j in range(1, n + 1):\n",
    "            self.B[self.array[j - 1]] += 1\n",
    "\n",
    "        # 2. Cumulative sum of the counts in B\n",
    "        for i in range(2, self.M + 1):\n",
    "            self.B[i] += self.B[i - 1]\n",
    "\n",
    "        # 3. Build the sorted array A using the counts in B\n",
    "        for j in range(n, 0, -1):\n",
    "            A_prime[self.B[self.array[j - 1]]] = self.array[j - 1]\n",
    "            self.B[self.array[j - 1]] -= 1\n",
    "\n",
    "        return A_prime[1:] # return the sorted array\n",
    "\n",
    "# Example\n",
    "if __name__ == \"__main__\":\n",
    "    input_array = [4, 2, 1, 5, 3, 4, 2, 1]\n",
    "    M_value = max(input_array)\n",
    "    \n",
    "    count_sort_obj = CountSort(input_array, M_value)\n",
    "    sorted_array = count_sort_obj.count_sort()\n",
    "\n",
    "    print(\"Original Array:\", input_array)\n",
    "    print(\"Sorted Array:\", sorted_array)"
   ]
  },
  {
   "cell_type": "markdown",
   "metadata": {},
   "source": [
    "b. The complexity of this algorithm:\n",
    "- Time Complexity: O(n + M)\n",
    "    - The first loop iterates through the input array, taking O(n) time.\n",
    "    - The second loop iterates through the count array, taking O(M) time.\n",
    "    - The third loop iterates through the input array in reverse order, taking O(n) time.\n",
    "    - Overall, the time complexity is O(n + M).\n",
    "- Space Complexity: O(M)\n",
    "    - The space complexity is determined by the count array, which has a length of M.\n",
    "\n",
    "The CountSort algorithm is particularly efficient when the range of input values (M) is not significantly larger than the number of elements (n)."
   ]
  }
 ],
 "metadata": {
  "kernelspec": {
   "display_name": "base",
   "language": "python",
   "name": "python3"
  },
  "language_info": {
   "codemirror_mode": {
    "name": "ipython",
    "version": 3
   },
   "file_extension": ".py",
   "mimetype": "text/x-python",
   "name": "python",
   "nbconvert_exporter": "python",
   "pygments_lexer": "ipython3",
   "version": "3.10.13"
  }
 },
 "nbformat": 4,
 "nbformat_minor": 2
}

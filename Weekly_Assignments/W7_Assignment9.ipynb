{
 "cells": [
  {
   "cell_type": "markdown",
   "metadata": {},
   "source": [
    "#### Assignment 9\n",
    "To implement a Markov chain working with whole words, we can use a sparse matrix to represent the transition probabilities between word sequences. In this example, I'll use the scipy.sparse.dok_matrix for a sparse dictionary matrix."
   ]
  },
  {
   "cell_type": "code",
   "execution_count": 6,
   "metadata": {},
   "outputs": [
    {
     "ename": "UFuncTypeError",
     "evalue": "ufunc 'maximum' did not contain a loop with signature matching types (dtype('<U4'), dtype('<U4')) -> None",
     "output_type": "error",
     "traceback": [
      "\u001b[0;31m---------------------------------------------------------------------------\u001b[0m",
      "\u001b[0;31mUFuncTypeError\u001b[0m                            Traceback (most recent call last)",
      "\u001b[1;32m/Users/nimishasen/Desktop/MSc/Adv.Algorithms_Complexity/Weekly_Assignments/W7_Assignment9 copy 5.ipynb Cell 2\u001b[0m line \u001b[0;36m4\n\u001b[1;32m     <a href='vscode-notebook-cell:/Users/nimishasen/Desktop/MSc/Adv.Algorithms_Complexity/Weekly_Assignments/W7_Assignment9%20copy%205.ipynb#X11sZmlsZQ%3D%3D?line=44'>45</a>\u001b[0m k_value \u001b[39m=\u001b[39m \u001b[39m2\u001b[39m\n\u001b[1;32m     <a href='vscode-notebook-cell:/Users/nimishasen/Desktop/MSc/Adv.Algorithms_Complexity/Weekly_Assignments/W7_Assignment9%20copy%205.ipynb#X11sZmlsZQ%3D%3D?line=46'>47</a>\u001b[0m \u001b[39m# Generate Markov chain\u001b[39;00m\n\u001b[0;32m---> <a href='vscode-notebook-cell:/Users/nimishasen/Desktop/MSc/Adv.Algorithms_Complexity/Weekly_Assignments/W7_Assignment9%20copy%205.ipynb#X11sZmlsZQ%3D%3D?line=47'>48</a>\u001b[0m markov_chain \u001b[39m=\u001b[39m generate_markov_chain(input_text, k\u001b[39m=\u001b[39;49mk_value)\n\u001b[1;32m     <a href='vscode-notebook-cell:/Users/nimishasen/Desktop/MSc/Adv.Algorithms_Complexity/Weekly_Assignments/W7_Assignment9%20copy%205.ipynb#X11sZmlsZQ%3D%3D?line=49'>50</a>\u001b[0m \u001b[39m# Generate a sequence\u001b[39;00m\n\u001b[1;32m     <a href='vscode-notebook-cell:/Users/nimishasen/Desktop/MSc/Adv.Algorithms_Complexity/Weekly_Assignments/W7_Assignment9%20copy%205.ipynb#X11sZmlsZQ%3D%3D?line=50'>51</a>\u001b[0m seed_sequence \u001b[39m=\u001b[39m random\u001b[39m.\u001b[39mchoice(\u001b[39mlist\u001b[39m(markov_chain\u001b[39m.\u001b[39mkeys()))\n",
      "\u001b[1;32m/Users/nimishasen/Desktop/MSc/Adv.Algorithms_Complexity/Weekly_Assignments/W7_Assignment9 copy 5.ipynb Cell 2\u001b[0m line \u001b[0;36m1\n\u001b[1;32m     <a href='vscode-notebook-cell:/Users/nimishasen/Desktop/MSc/Adv.Algorithms_Complexity/Weekly_Assignments/W7_Assignment9%20copy%205.ipynb#X11sZmlsZQ%3D%3D?line=15'>16</a>\u001b[0m     current_state \u001b[39m=\u001b[39m \u001b[39mtuple\u001b[39m(words[i:i\u001b[39m+\u001b[39mk])  \u001b[39m# Use tuple for multi-word keys\u001b[39;00m\n\u001b[1;32m     <a href='vscode-notebook-cell:/Users/nimishasen/Desktop/MSc/Adv.Algorithms_Complexity/Weekly_Assignments/W7_Assignment9%20copy%205.ipynb#X11sZmlsZQ%3D%3D?line=16'>17</a>\u001b[0m     next_state \u001b[39m=\u001b[39m words[i\u001b[39m+\u001b[39mk]\n\u001b[0;32m---> <a href='vscode-notebook-cell:/Users/nimishasen/Desktop/MSc/Adv.Algorithms_Complexity/Weekly_Assignments/W7_Assignment9%20copy%205.ipynb#X11sZmlsZQ%3D%3D?line=18'>19</a>\u001b[0m     transition_matrix[current_state, next_state] \u001b[39m+\u001b[39m\u001b[39m=\u001b[39m \u001b[39m1\u001b[39m\n\u001b[1;32m     <a href='vscode-notebook-cell:/Users/nimishasen/Desktop/MSc/Adv.Algorithms_Complexity/Weekly_Assignments/W7_Assignment9%20copy%205.ipynb#X11sZmlsZQ%3D%3D?line=19'>20</a>\u001b[0m     word_count[current_state] \u001b[39m+\u001b[39m\u001b[39m=\u001b[39m \u001b[39m1\u001b[39m\n\u001b[1;32m     <a href='vscode-notebook-cell:/Users/nimishasen/Desktop/MSc/Adv.Algorithms_Complexity/Weekly_Assignments/W7_Assignment9%20copy%205.ipynb#X11sZmlsZQ%3D%3D?line=21'>22</a>\u001b[0m \u001b[39m# Normalize transition probabilities\u001b[39;00m\n",
      "File \u001b[0;32m~/anaconda3/lib/python3.10/site-packages/scipy/sparse/_index.py:44\u001b[0m, in \u001b[0;36mIndexMixin.__getitem__\u001b[0;34m(self, key)\u001b[0m\n\u001b[1;32m     43\u001b[0m \u001b[39mdef\u001b[39;00m \u001b[39m__getitem__\u001b[39m(\u001b[39mself\u001b[39m, key):\n\u001b[0;32m---> 44\u001b[0m     row, col \u001b[39m=\u001b[39m \u001b[39mself\u001b[39;49m\u001b[39m.\u001b[39;49m_validate_indices(key)\n\u001b[1;32m     46\u001b[0m     \u001b[39m# Dispatch to specialized methods.\u001b[39;00m\n\u001b[1;32m     47\u001b[0m     \u001b[39mif\u001b[39;00m \u001b[39misinstance\u001b[39m(row, INT_TYPES):\n",
      "File \u001b[0;32m~/anaconda3/lib/python3.10/site-packages/scipy/sparse/_index.py:156\u001b[0m, in \u001b[0;36mIndexMixin._validate_indices\u001b[0;34m(self, key)\u001b[0m\n\u001b[1;32m    154\u001b[0m         row \u001b[39m+\u001b[39m\u001b[39m=\u001b[39m M\n\u001b[1;32m    155\u001b[0m \u001b[39melif\u001b[39;00m \u001b[39mnot\u001b[39;00m \u001b[39misinstance\u001b[39m(row, \u001b[39mslice\u001b[39m):\n\u001b[0;32m--> 156\u001b[0m     row \u001b[39m=\u001b[39m \u001b[39mself\u001b[39;49m\u001b[39m.\u001b[39;49m_asindices(row, M)\n\u001b[1;32m    158\u001b[0m \u001b[39mif\u001b[39;00m isintlike(col):\n\u001b[1;32m    159\u001b[0m     col \u001b[39m=\u001b[39m \u001b[39mint\u001b[39m(col)\n",
      "File \u001b[0;32m~/anaconda3/lib/python3.10/site-packages/scipy/sparse/_index.py:186\u001b[0m, in \u001b[0;36mIndexMixin._asindices\u001b[0;34m(self, idx, length)\u001b[0m\n\u001b[1;32m    183\u001b[0m     \u001b[39mreturn\u001b[39;00m x\n\u001b[1;32m    185\u001b[0m \u001b[39m# Check bounds\u001b[39;00m\n\u001b[0;32m--> 186\u001b[0m max_indx \u001b[39m=\u001b[39m x\u001b[39m.\u001b[39;49mmax()\n\u001b[1;32m    187\u001b[0m \u001b[39mif\u001b[39;00m max_indx \u001b[39m>\u001b[39m\u001b[39m=\u001b[39m length:\n\u001b[1;32m    188\u001b[0m     \u001b[39mraise\u001b[39;00m \u001b[39mIndexError\u001b[39;00m(\u001b[39m'\u001b[39m\u001b[39mindex (\u001b[39m\u001b[39m%d\u001b[39;00m\u001b[39m) out of range\u001b[39m\u001b[39m'\u001b[39m \u001b[39m%\u001b[39m max_indx)\n",
      "File \u001b[0;32m~/anaconda3/lib/python3.10/site-packages/numpy/core/_methods.py:41\u001b[0m, in \u001b[0;36m_amax\u001b[0;34m(a, axis, out, keepdims, initial, where)\u001b[0m\n\u001b[1;32m     39\u001b[0m \u001b[39mdef\u001b[39;00m \u001b[39m_amax\u001b[39m(a, axis\u001b[39m=\u001b[39m\u001b[39mNone\u001b[39;00m, out\u001b[39m=\u001b[39m\u001b[39mNone\u001b[39;00m, keepdims\u001b[39m=\u001b[39m\u001b[39mFalse\u001b[39;00m,\n\u001b[1;32m     40\u001b[0m           initial\u001b[39m=\u001b[39m_NoValue, where\u001b[39m=\u001b[39m\u001b[39mTrue\u001b[39;00m):\n\u001b[0;32m---> 41\u001b[0m     \u001b[39mreturn\u001b[39;00m umr_maximum(a, axis, \u001b[39mNone\u001b[39;49;00m, out, keepdims, initial, where)\n",
      "\u001b[0;31mUFuncTypeError\u001b[0m: ufunc 'maximum' did not contain a loop with signature matching types (dtype('<U4'), dtype('<U4')) -> None"
     ]
    }
   ],
   "source": [
    "import random\n",
    "from scipy.sparse import dok_matrix\n",
    "from collections import defaultdict\n",
    "\n",
    "def generate_markov_chain(text, k=2):\n",
    "    words = text.split()\n",
    "    \n",
    "    # Create a sparse dictionary matrix to store transition probabilities\n",
    "    transition_matrix = dok_matrix((len(set(words)), len(set(words))), dtype=float)\n",
    "\n",
    "    # Create a dictionary to store word occurrences\n",
    "    word_count = defaultdict(int)\n",
    "\n",
    "    # Populate the transition matrix and word occurrences\n",
    "    for i in range(len(words) - k):\n",
    "        current_state = tuple(words[i:i+k])  # Use tuple for multi-word keys\n",
    "        next_state = words[i+k]\n",
    "        \n",
    "        transition_matrix[current_state, next_state] += 1\n",
    "        word_count[current_state] += 1\n",
    "\n",
    "    # Normalize transition probabilities\n",
    "    for key in transition_matrix.keys():\n",
    "        transition_matrix[key] /= word_count[key[0]]\n",
    "\n",
    "    return transition_matrix\n",
    "\n",
    "def generate_sequence(markov_chain, seed, length=10):\n",
    "    sequence = list(seed)\n",
    "    current_state = tuple(seed)\n",
    "\n",
    "    for _ in range(length - 1):\n",
    "        next_state_probs = dict(markov_chain.get(current_state, {}))\n",
    "        if not next_state_probs:\n",
    "            break\n",
    "\n",
    "        next_state = random.choices(list(next_state_probs.keys()), weights=list(next_state_probs.values()))[0]\n",
    "        sequence.append(next_state)\n",
    "        current_state = tuple(sequence[-k:])\n",
    "\n",
    "    return ' '.join(sequence)\n",
    "\n",
    "# Example usage:\n",
    "input_text = \"This is a sample text for testing the Markov chain implementation. You can replace it with your own text.\"\n",
    "k_value = 2\n",
    "\n",
    "# Generate Markov chain\n",
    "markov_chain = generate_markov_chain(input_text, k=k_value)\n",
    "\n",
    "# Generate a sequence\n",
    "seed_sequence = random.choice(list(markov_chain.keys()))\n",
    "generated_sequence = generate_sequence(markov_chain, seed_sequence, length=10)\n",
    "\n",
    "# Print the results\n",
    "print(f\"Generated Markov Chain (k={k_value}):\\n{markov_chain}\\n\")\n",
    "print(f\"Generated Sequence starting with '{seed_sequence}':\\n{generated_sequence}\")\n"
   ]
  },
  {
   "cell_type": "markdown",
   "metadata": {},
   "source": [
    "In this implementation:\n",
    "\n",
    "generate_markov_chain takes a text and a parameter k (the number of words in a sequence) and creates a Markov chain represented by a sparse matrix.\n",
    "generate_sequence generates a sequence of words based on the Markov chain, starting from a given seed sequence.\n",
    "You can adjust the k_value and the length parameter in the generate_sequence function to control the length of the generated sequence."
   ]
  }
 ],
 "metadata": {
  "kernelspec": {
   "display_name": "base",
   "language": "python",
   "name": "python3"
  },
  "language_info": {
   "codemirror_mode": {
    "name": "ipython",
    "version": 3
   },
   "file_extension": ".py",
   "mimetype": "text/x-python",
   "name": "python",
   "nbconvert_exporter": "python",
   "pygments_lexer": "ipython3",
   "version": "3.10.13"
  }
 },
 "nbformat": 4,
 "nbformat_minor": 2
}

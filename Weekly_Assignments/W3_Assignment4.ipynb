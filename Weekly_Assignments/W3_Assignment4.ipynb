{
 "cells": [
  {
   "cell_type": "markdown",
   "metadata": {},
   "source": [
    "#### Assignment 4\n",
    "Finding the minimum number of coins to make up a given value using Dijkstra's algorithm:"
   ]
  },
  {
   "cell_type": "code",
   "execution_count": 16,
   "metadata": {},
   "outputs": [
    {
     "name": "stdout",
     "output_type": "stream",
     "text": [
      "The minimum number of coins needed is: 5\n"
     ]
    }
   ],
   "source": [
    "def min_coins_dp(coins, target_value):\n",
    "    # 1: Initialization\n",
    "    # Create an array to store the minimum number of coins \n",
    "    # needed for each value from 0 to the target value.\n",
    "    # Initialize the value at index 0 to be 0, and the rest to be infinity.\n",
    "    min_coins = [0] + [float('inf')] * target_value\n",
    "\n",
    "    # 2: Iterate through values\n",
    "    # For each value from 1 to the target value, update the minimum number \n",
    "    # of coins needed by considering each coin in the set.\n",
    "    # In this step, we're essentially trying to build up the minimum number \n",
    "    # of coins needed for each value by considering the possibilities of using each coin.\n",
    "    for value in range(1, target_value + 1):\n",
    "        for coin in coins:\n",
    "            # Check if the coin can be used to make up the current value\n",
    "            if coin <= value and min_coins[value - coin] + 1 < min_coins[value]:\n",
    "                min_coins[value] = min_coins[value - coin] + 1\n",
    "\n",
    "    # 3: Result\n",
    "    # The minimum number of coins needed is stored at min_coins[target_value].\n",
    "    return min_coins[target_value]\n",
    "\n",
    "# Example:\n",
    "C = [9, 4, 7]\n",
    "V = 40\n",
    "result = min_coins_dp(C, V)\n",
    "print(f\"The minimum number of coins needed is: {result}\")\n"
   ]
  },
  {
   "cell_type": "markdown",
   "metadata": {},
   "source": [
    "\n",
    "This implementation uses dynamic programming to build up the solution by considering the optimal substructure of the problem."
   ]
  }
 ],
 "metadata": {
  "kernelspec": {
   "display_name": "base",
   "language": "python",
   "name": "python3"
  },
  "language_info": {
   "codemirror_mode": {
    "name": "ipython",
    "version": 3
   },
   "file_extension": ".py",
   "mimetype": "text/x-python",
   "name": "python",
   "nbconvert_exporter": "python",
   "pygments_lexer": "ipython3",
   "version": "3.10.13"
  }
 },
 "nbformat": 4,
 "nbformat_minor": 2
}

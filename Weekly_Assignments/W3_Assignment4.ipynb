{
 "cells": [
  {
   "cell_type": "markdown",
   "metadata": {},
   "source": [
    "#### Assignment 4\n",
    "Finding the minimum number of coins to make up a given value using Dijkstra's algorithm:"
   ]
  },
  {
   "cell_type": "markdown",
   "metadata": {},
   "source": [
    "Initialize: Create an array to store the minimum number of coins needed for each value from 0 to the target value. Initialize the value at index 0 to be 0, and the rest to be infinity."
   ]
  },
  {
   "cell_type": "code",
   "execution_count": 28,
   "metadata": {},
   "outputs": [],
   "source": [
    "min_coins = [0] + [float('inf')] * V"
   ]
  },
  {
   "cell_type": "markdown",
   "metadata": {},
   "source": [
    "Iterate through values: For each value from 1 to the target value, update the minimum number of coins needed by considering each coin in the set."
   ]
  },
  {
   "cell_type": "code",
   "execution_count": 29,
   "metadata": {},
   "outputs": [],
   "source": [
    "for value in range(1, V + 1):\n",
    "    for coin in C:\n",
    "        if coin <= value and min_coins[value - coin] + 1 < min_coins[value]:\n",
    "            min_coins[value] = min_coins[value - coin] + 1"
   ]
  },
  {
   "cell_type": "markdown",
   "metadata": {},
   "source": [
    "In this step, we're essentially trying to build up the minimum number of coins needed for each value by considering the possibilities of using each coin."
   ]
  },
  {
   "cell_type": "markdown",
   "metadata": {},
   "source": [
    "Result: The minimum number of coins needed to make up the target value is stored at min_coins[V]."
   ]
  },
  {
   "cell_type": "code",
   "execution_count": 30,
   "metadata": {},
   "outputs": [],
   "source": [
    "min_coins_needed = min_coins[V]"
   ]
  },
  {
   "cell_type": "markdown",
   "metadata": {},
   "source": [
    "C is the set of coins, V is the target value"
   ]
  },
  {
   "cell_type": "code",
   "execution_count": 31,
   "metadata": {},
   "outputs": [
    {
     "name": "stdout",
     "output_type": "stream",
     "text": [
      "The minimum number of coins needed is: 5\n"
     ]
    }
   ],
   "source": [
    "#Example:\n",
    "C = [9, 4, 7]\n",
    "V = 40\n",
    "result = min_coins_dp (C, V)\n",
    "print(f\"The minimum number of coins needed is: {result}\")\n"
   ]
  },
  {
   "cell_type": "markdown",
   "metadata": {},
   "source": [
    "\n",
    "This implementation uses dynamic programming to build up the solution by considering the optimal substructure of the problem."
   ]
  }
 ],
 "metadata": {
  "kernelspec": {
   "display_name": "base",
   "language": "python",
   "name": "python3"
  },
  "language_info": {
   "codemirror_mode": {
    "name": "ipython",
    "version": 3
   },
   "file_extension": ".py",
   "mimetype": "text/x-python",
   "name": "python",
   "nbconvert_exporter": "python",
   "pygments_lexer": "ipython3",
   "version": "3.10.13"
  }
 },
 "nbformat": 4,
 "nbformat_minor": 2
}

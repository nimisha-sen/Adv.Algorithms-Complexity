{
 "cells": [
  {
   "cell_type": "markdown",
   "metadata": {},
   "source": [
    "Simulated Annealing is a probabilistic optimization algorithm inspired by the annealing process in metallurgy. It can be applied to the Traveling Salesman Problem (TSP) to find an approximate solution. In this example, I'll provide a simple implementation of Simulated Annealing for the TSP using a matrix representation for the graph."
   ]
  },
  {
   "cell_type": "code",
   "execution_count": 1,
   "metadata": {},
   "outputs": [
    {
     "name": "stdout",
     "output_type": "stream",
     "text": [
      "Best Path: [1, 0, 2, 3]\n",
      "Total Distance: 80\n"
     ]
    }
   ],
   "source": [
    "import numpy as np\n",
    "import random\n",
    "import math\n",
    "\n",
    "# Function to calculate the total distance of a path\n",
    "def calculate_total_distance(path, distance_matrix):\n",
    "    total_distance = 0\n",
    "    for i in range(len(path) - 1):\n",
    "        total_distance += distance_matrix[path[i]][path[i + 1]]\n",
    "    total_distance += distance_matrix[path[-1]][path[0]]  # Return to the starting city\n",
    "    return total_distance\n",
    "\n",
    "# Function to generate a random neighbor by swapping two cities in the path\n",
    "def generate_neighbor(path):\n",
    "    neighbor = path.copy()\n",
    "    index1, index2 = random.sample(range(len(path)), 2)\n",
    "    neighbor[index1], neighbor[index2] = neighbor[index2], neighbor[index1]\n",
    "    return neighbor\n",
    "\n",
    "# Function to perform simulated annealing\n",
    "def simulated_annealing(distance_matrix, initial_temperature, cooling_rate, iterations):\n",
    "    num_cities = len(distance_matrix)\n",
    "    \n",
    "    # Initialize the current solution randomly\n",
    "    current_solution = list(range(num_cities))\n",
    "    random.shuffle(current_solution)\n",
    "    \n",
    "    # Set the current solution as the best solution\n",
    "    best_solution = current_solution.copy()\n",
    "    \n",
    "    # Initialize temperature\n",
    "    temperature = initial_temperature\n",
    "    \n",
    "    for _ in range(iterations):\n",
    "        # Generate a random neighbor\n",
    "        neighbor_solution = generate_neighbor(current_solution)\n",
    "        \n",
    "        # Calculate energy (total distance) for the current and neighbor solutions\n",
    "        current_energy = calculate_total_distance(current_solution, distance_matrix)\n",
    "        neighbor_energy = calculate_total_distance(neighbor_solution, distance_matrix)\n",
    "        \n",
    "        # Decide whether to move to the neighbor solution\n",
    "        if neighbor_energy < current_energy or random.uniform(0, 1) < math.exp((current_energy - neighbor_energy) / temperature):\n",
    "            current_solution = neighbor_solution.copy()\n",
    "            \n",
    "        # Update the best solution if needed\n",
    "        if neighbor_energy < calculate_total_distance(best_solution, distance_matrix):\n",
    "            best_solution = neighbor_solution.copy()\n",
    "        \n",
    "        # Cool down the temperature\n",
    "        temperature *= cooling_rate\n",
    "\n",
    "    return best_solution, calculate_total_distance(best_solution, distance_matrix)\n",
    "\n",
    "# Example usage:\n",
    "# Define the distance matrix (replace this with your actual distance matrix)\n",
    "distance_matrix = np.array([\n",
    "    [0, 10, 15, 20],\n",
    "    [10, 0, 35, 25],\n",
    "    [15, 35, 0, 30],\n",
    "    [20, 25, 30, 0]\n",
    "])\n",
    "\n",
    "# Set algorithm parameters\n",
    "initial_temperature = 1000\n",
    "cooling_rate = 0.995\n",
    "iterations = 10000\n",
    "\n",
    "# Run the simulated annealing algorithm\n",
    "best_path, best_distance = simulated_annealing(distance_matrix, initial_temperature, cooling_rate, iterations)\n",
    "\n",
    "# Print the results\n",
    "print(\"Best Path:\", best_path)\n",
    "print(\"Total Distance:\", best_distance)\n"
   ]
  },
  {
   "cell_type": "markdown",
   "metadata": {},
   "source": [
    "Replace the distance_matrix variable with your actual distance matrix. The algorithm parameters such as initial_temperature, cooling_rate, and iterations can be adjusted based on the problem and computational resources.\n",
    "\n",
    "This is a basic implementation, and you might want to experiment with different parameter values to achieve better results for specific instances of the TSP."
   ]
  }
 ],
 "metadata": {
  "kernelspec": {
   "display_name": "base",
   "language": "python",
   "name": "python3"
  },
  "language_info": {
   "codemirror_mode": {
    "name": "ipython",
    "version": 3
   },
   "file_extension": ".py",
   "mimetype": "text/x-python",
   "name": "python",
   "nbconvert_exporter": "python",
   "pygments_lexer": "ipython3",
   "version": "3.10.13"
  }
 },
 "nbformat": 4,
 "nbformat_minor": 2
}

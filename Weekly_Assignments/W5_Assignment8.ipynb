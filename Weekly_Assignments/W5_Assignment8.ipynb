{
 "cells": [
  {
   "cell_type": "markdown",
   "metadata": {},
   "source": [
    "### Assignment 8 - Simulated Annealing Algorithm \n",
    "\n",
    "Implement a Simulated Annealing algorithm for a traveling salesman problem.\n",
    "We are given a list of cities and the distance between different pairs of these cities.\n",
    "**Input:** Weighted, undirected graph, fully connected G(V,E) .\n",
    "**Output:** A path going through all the cities, with a minimal distance.\n",
    "Use matrix representation for your graph."
   ]
  },
  {
   "cell_type": "markdown",
   "metadata": {},
   "source": [
    "**Implementing a Simulated Annealing algorithm for the Traveling Salesman Problem (TSP)**\n",
    "- This problem is NP-hard, meaning that there is no known polynomial-time algorithm to solve it optimally in the general case.\n",
    "- Simulated Annealing is a probabilistic optimization algorithm inspired by the annealing process in metallurgy.\n",
    "- The algorithm starts with a high \"temperature\" that allows for a higher probability of accepting worse solutions. As the temperature decreases, the algorithm becomes more selective and tends to converge toward an optimal or near-optimal solution.\n",
    "- The rationale behind using Simulated Annealing for the TSP lies in its ability to escape local optima, explore a broad solution space, and eventually converge to a good solution.\n",
    "- It is particularly useful for problems with a large solution space where exploring every possible solution is impractical.\n",
    "- Difference with Genetic algorithm:\n",
    "    - While both are metaheuristic approaches for optimization, they have distinct mechanisms.\n",
    "    - Simulated Annealing operates with a single solution, exploring the solution space by probabilistically accepting worse solutions, while Genetic Algorithms maintain a population of solutions, evolving them through generations with crossover and mutation for global exploration. "
   ]
  },
  {
   "cell_type": "code",
   "execution_count": 11,
   "metadata": {},
   "outputs": [
    {
     "name": "stdout",
     "output_type": "stream",
     "text": [
      "Best Path: [2, 0, 1, 3]\n",
      "Total Distance: 66\n"
     ]
    }
   ],
   "source": [
    "import numpy as np\n",
    "import random\n",
    "import math\n",
    "\n",
    "def total_distance(path, distance_matrix):\n",
    "    return sum(distance_matrix[path[i-1]][path[i]] for i in range(len(path))) + distance_matrix[path[-1]][path[0]]\n",
    "\n",
    "def initialize_path(num_cities):\n",
    "    path = list(range(num_cities))\n",
    "    random.shuffle(path)\n",
    "    return path\n",
    "\n",
    "def generate_neighbor_path(current_path):\n",
    "    neighbor_path = current_path.copy()\n",
    "    idx1, idx2 = random.sample(range(len(neighbor_path)), 2)\n",
    "    neighbor_path[idx1], neighbor_path[idx2] = neighbor_path[idx2], neighbor_path[idx1]\n",
    "    return neighbor_path\n",
    "\n",
    "def acceptance_probability(old_distance, new_distance, temperature):\n",
    "    if new_distance < old_distance:\n",
    "        return 1.0\n",
    "    return math.exp((old_distance - new_distance) / temperature)\n",
    "\n",
    "def simulated_annealing(distance_matrix, initial_temperature, cooling_rate, num_iterations):\n",
    "    num_cities = len(distance_matrix)\n",
    "    \n",
    "    current_path = initialize_path(num_cities)\n",
    "    best_path = current_path\n",
    "    current_distance = total_distance(current_path, distance_matrix)\n",
    "    best_distance = current_distance\n",
    "    \n",
    "    temperature = initial_temperature\n",
    "    \n",
    "    for _ in range(num_iterations):\n",
    "        neighbor_path = generate_neighbor_path(current_path)\n",
    "        neighbor_distance = total_distance(neighbor_path, distance_matrix)\n",
    "        \n",
    "        if acceptance_probability(current_distance, neighbor_distance, temperature) > random.random():\n",
    "            current_path = neighbor_path\n",
    "            current_distance = neighbor_distance\n",
    "        \n",
    "        if current_distance < best_distance:\n",
    "            best_path = current_path\n",
    "            best_distance = current_distance\n",
    "        \n",
    "        temperature *= 1 - cooling_rate\n",
    "    \n",
    "    return best_path, best_distance\n",
    "\n",
    "# Example usage:\n",
    "distance_matrix = np.array([\n",
    "    [9, 10, 40, 20],\n",
    "    [10, 0, 40, 25],\n",
    "    [15, 60, 0, 30],\n",
    "    [81, 25, 8, 0]\n",
    "])\n",
    "\n",
    "initial_temperature = 1000\n",
    "cooling_rate = 0.003\n",
    "num_iterations = 10000\n",
    "\n",
    "best_path, best_distance = simulated_annealing(distance_matrix, initial_temperature, cooling_rate, num_iterations)\n",
    "\n",
    "print(\"Best Path:\", best_path)\n",
    "print(\"Total Distance:\", best_distance)\n"
   ]
  }
 ],
 "metadata": {
  "kernelspec": {
   "display_name": "base",
   "language": "python",
   "name": "python3"
  },
  "language_info": {
   "codemirror_mode": {
    "name": "ipython",
    "version": 3
   },
   "file_extension": ".py",
   "mimetype": "text/x-python",
   "name": "python",
   "nbconvert_exporter": "python",
   "pygments_lexer": "ipython3",
   "version": "3.10.13"
  }
 },
 "nbformat": 4,
 "nbformat_minor": 2
}

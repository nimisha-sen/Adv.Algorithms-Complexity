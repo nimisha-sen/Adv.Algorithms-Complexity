{
 "cells": [
  {
   "cell_type": "markdown",
   "metadata": {},
   "source": [
    "**Karger's min-cut algorithm** is a randomized algorithm for finding a minimum cut in an undirected graph. It is a Monte Carlo algorithm, which means it has a probability of error in its result. The basic idea is to repeatedly contract edges in the graph until only two nodes (and one edge) remain, representing a cut in the original graph.\n",
    "\n",
    "Here is an outline of how the algorithm works based on your description:\n",
    "\n",
    "Select a random edge:\n",
    "\n",
    "Randomly choose an edge from the graph.\n",
    "Remove this edge and merge its nodes into one node:\n",
    "\n",
    "Remove the chosen edge from the graph.\n",
    "Merge the two nodes connected by the chosen edge into a single node.\n",
    "Remove any cycles, if present:\n",
    "\n",
    "Remove any self-loops or parallel edges that may have been created during the merging process.\n",
    "Repeat 1-3 until only one edge remains:\n",
    "\n",
    "Repeat the above steps until only two nodes and one edge remain in the graph.\n",
    "The resulting two nodes represent a potential cut in the original graph. The algorithm is repeated multiple times, and the minimum cut found over all iterations is considered the output.\n",
    "\n",
    "Monte Carlo Aspect:\n",
    "Since the algorithm involves a random selection of edges, it is considered a Monte Carlo algorithm. The randomness introduces the possibility of error, meaning there is a chance that the algorithm might not find the global minimum cut. However, by repeating the process multiple times, the probability of finding the true minimum cut can be increased.\n",
    "\n",
    "In practice, the algorithm is often repeated a polynomial number of times to reduce the probability of error to a desired level. Despite its randomized nature, Karger's algorithm has been shown to be quite effective in finding approximate minimum cuts in graphs.\n",
    "\n",
    "Here is a simple representation of the algorithm in Python:"
   ]
  },
  {
   "cell_type": "code",
   "execution_count": 2,
   "metadata": {},
   "outputs": [
    {
     "name": "stdout",
     "output_type": "stream",
     "text": [
      "Minimum Cut: [(1, 2), (2, 1)]\n"
     ]
    }
   ],
   "source": [
    "import random\n",
    "\n",
    "class Graph:\n",
    "    def __init__(self, vertices):\n",
    "        self.vertices = vertices\n",
    "        self.edges = []\n",
    "\n",
    "    def add_edge(self, u, v):\n",
    "        self.edges.append((u, v))\n",
    "\n",
    "    def contract_edge(self, edge):\n",
    "        u, v = edge\n",
    "        # Merge nodes u and v into a single node\n",
    "        self.vertices.remove(v)\n",
    "        self.edges = [(u, w) if x == v else (x, w) for x, w in self.edges if x != w and w != v]\n",
    "\n",
    "    def karger_min_cut(self):\n",
    "        while len(self.vertices) > 2:\n",
    "            # Randomly choose an edge\n",
    "            edge = random.choice(self.edges)\n",
    "\n",
    "            # Contract the chosen edge\n",
    "            self.contract_edge(edge)\n",
    "\n",
    "        # Return the remaining edges as the cut\n",
    "        return self.edges\n",
    "\n",
    "# Example usage:\n",
    "g = Graph([1, 2, 3, 4])\n",
    "g.add_edge(1, 2)\n",
    "g.add_edge(2, 3)\n",
    "g.add_edge(3, 4)\n",
    "g.add_edge(4, 1)\n",
    "\n",
    "result = g.karger_min_cut()\n",
    "print(\"Minimum Cut:\", result)\n"
   ]
  },
  {
   "cell_type": "markdown",
   "metadata": {},
   "source": [
    "In this example, the Graph class has been extended to include methods for adding edges and contracting edges. The karger_min_cut method is responsible for the main steps of Karger's algorithm. The final result (the edges in the minimum cut) is printed at the end."
   ]
  }
 ],
 "metadata": {
  "kernelspec": {
   "display_name": "base",
   "language": "python",
   "name": "python3"
  },
  "language_info": {
   "codemirror_mode": {
    "name": "ipython",
    "version": 3
   },
   "file_extension": ".py",
   "mimetype": "text/x-python",
   "name": "python",
   "nbconvert_exporter": "python",
   "pygments_lexer": "ipython3",
   "version": "3.10.13"
  }
 },
 "nbformat": 4,
 "nbformat_minor": 2
}

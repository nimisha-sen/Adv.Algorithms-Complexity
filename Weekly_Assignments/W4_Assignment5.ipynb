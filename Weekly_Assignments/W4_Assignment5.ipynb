{
 "cells": [
  {
   "cell_type": "markdown",
   "metadata": {},
   "source": [
    "#### Assignment 5 - Karger’s min-cut Algorithm"
   ]
  },
  {
   "cell_type": "markdown",
   "metadata": {},
   "source": [
    "**Input:** Connected, undirected, unweighted graph G = (V,E).\n",
    "\n",
    "**Output:** Smallest list of edges, which if removed will cut G  in two.\n",
    "\n",
    "**Algorithm:**\n",
    "\n",
    "1. Select a random edge.\n",
    "2. Remove this edge and merge its nodes into one node.\n",
    "3. Remove any cycles, if present\n",
    "4. Repeat 1-3 until only one edge remains."
   ]
  },
  {
   "cell_type": "markdown",
   "metadata": {},
   "source": [
    "**Karger's min-cut algorithm** \n",
    "- is a randomized algorithm for finding a minimum cut in an undirected graph. \n",
    "- It is a Monte Carlo algorithm, which means it has a probability of error in its result. \n",
    "- The basic idea is to repeatedly contract edges in the graph until only two nodes (and one edge) remain, representing a cut in the original graph.\n",
    "\n",
    "1. Randomly choose an edge, remove this edge and merge its nodes into one.\n",
    "2. Remove any self-loops or parallel edges that may have been createdd during the merging process. \n",
    "3. Repeat the steps until only two nodes and one edge remain in the graph. The resulting two nodes represent a potential cut in the original graph.\n",
    "- The the minimum cut found over all iterations is considered the output.\n",
    "\n",
    "Monte Carlo Aspect:\n",
    "- Since the algorithm involves a random selection of edges, it is considered a Monte Carlo algorithm. \n",
    "- The randomness introduces the possibility of error, meaning there is a chance that the algorithm might not find the global minimum cut. \n",
    "- However, by repeating the process multiple times, the probability of finding the true minimum cut can be increased."
   ]
  },
  {
   "cell_type": "code",
   "execution_count": 4,
   "metadata": {},
   "outputs": [
    {
     "name": "stdout",
     "output_type": "stream",
     "text": [
      "Minimum Cut: [(1, 3), (3, 1)]\n"
     ]
    }
   ],
   "source": [
    "import random\n",
    "\n",
    "class Graph:\n",
    "    def __init__(self, vertices):\n",
    "        self.vertices = vertices\n",
    "        self.edges = []\n",
    "\n",
    "    def add_edge(self, u, v):\n",
    "        self.edges.append((u, v))\n",
    "\n",
    "    def contract_edge(self, edge):\n",
    "        u, v = edge\n",
    "        # Merge nodes u and v into a single node\n",
    "        self.vertices.remove(v)\n",
    "        self.edges = [(u, w) if x == v else (x, w) for x, w in self.edges if x != w and w != v]\n",
    "\n",
    "    def karger_min_cut(self):\n",
    "        while len(self.vertices) > 2:\n",
    "            # Randomly choose an edge\n",
    "            edge = random.choice(self.edges)\n",
    "\n",
    "            # Contract the chosen edge\n",
    "            self.contract_edge(edge)\n",
    "\n",
    "        # Return the remaining edges as the cut\n",
    "        return self.edges\n",
    "\n",
    "# Example usage:\n",
    "g = Graph([1, 2, 3, 4])\n",
    "g.add_edge(1, 2)\n",
    "g.add_edge(2, 3)\n",
    "g.add_edge(3, 4)\n",
    "g.add_edge(4, 1)\n",
    "\n",
    "result = g.karger_min_cut()\n",
    "print(\"Minimum Cut:\", result)\n"
   ]
  },
  {
   "cell_type": "markdown",
   "metadata": {},
   "source": [
    "In this example, the Graph class has been extended to include methods for adding edges and contracting edges. The karger_min_cut method is responsible for the main steps of Karger's algorithm. The final result (the edges in the minimum cut) is printed at the end."
   ]
  }
 ],
 "metadata": {
  "kernelspec": {
   "display_name": "base",
   "language": "python",
   "name": "python3"
  },
  "language_info": {
   "codemirror_mode": {
    "name": "ipython",
    "version": 3
   },
   "file_extension": ".py",
   "mimetype": "text/x-python",
   "name": "python",
   "nbconvert_exporter": "python",
   "pygments_lexer": "ipython3",
   "version": "3.10.13"
  }
 },
 "nbformat": 4,
 "nbformat_minor": 2
}

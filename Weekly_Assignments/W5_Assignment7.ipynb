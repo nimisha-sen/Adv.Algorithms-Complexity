{
 "cells": [
  {
   "cell_type": "markdown",
   "metadata": {},
   "source": [
    "#### Assignment 7 - Genetic Algorithm\n",
    "Implement a Genetic Algorithm for a traveling salesman problem.\n",
    "We are given a list of cities and the distance between different pairs of these cities.\n",
    "**Input:** Weighted, undirected graph, fully connected G(V,E).\n",
    "**Output:** A path going through all the cities, with a minimal distance. \n",
    "Use matrix representation for your graph.\n",
    "\n",
    "The Traveling Salesman Problem (TSP) \n",
    "- is a classic optimization problem, and a Genetic Algorithm (GA) can be used to find an approximate solution. \n",
    "- In this example, I'll provide a simple implementation of a Genetic Algorithm for the TSP using a matrix representation for the graph."
   ]
  },
  {
   "cell_type": "code",
   "execution_count": 4,
   "metadata": {},
   "outputs": [
    {
     "name": "stdout",
     "output_type": "stream",
     "text": [
      "Best Path: [2, 3, 1, 0]\n",
      "Total Distance: 65\n"
     ]
    }
   ],
   "source": [
    "import numpy as np\n",
    "import random\n",
    "\n",
    "# Function to calculate the total distance of a path\n",
    "def total_distance(path, distance_matrix):\n",
    "    total_distance = 0\n",
    "    for i in range(len(path) - 1):\n",
    "        total_distance += distance_matrix[path[i]][path[i + 1]]\n",
    "    total_distance += distance_matrix[path[-1]][path[0]]  # Return to the starting city\n",
    "    return total_distance\n",
    "\n",
    "# Function to initialize a population of paths\n",
    "def initialize_population(population_size, num_cities):\n",
    "    population = []\n",
    "    for _ in range(population_size):\n",
    "        path = list(range(num_cities))\n",
    "        random.shuffle(path)\n",
    "        population.append(path)\n",
    "    return population\n",
    "\n",
    "# Function to perform crossover between two paths\n",
    "def crossover(parent1, parent2):\n",
    "    crossover_point = random.randint(0, len(parent1) - 1)\n",
    "    child = parent1[:crossover_point] + [city for city in parent2 if city not in parent1[:crossover_point]]\n",
    "    return child\n",
    "\n",
    "# Function to perform mutation on a path\n",
    "def mutate(path):\n",
    "    mutation_point1 = random.randint(0, len(path) - 1)\n",
    "    mutation_point2 = random.randint(0, len(path) - 1)\n",
    "    path[mutation_point1], path[mutation_point2] = path[mutation_point2], path[mutation_point1]\n",
    "    return path\n",
    "\n",
    "# Function to select parents based on tournament selection\n",
    "def select_parents(population, tournament_size, distance_matrix):\n",
    "    tournament = random.sample(population, tournament_size)\n",
    "    tournament_distances = [total_distance(path, distance_matrix) for path in tournament]\n",
    "    return tournament[tournament_distances.index(min(tournament_distances))]\n",
    "\n",
    "# Function to perform genetic algorithm\n",
    "def genetic_algorithm(distance_matrix, population_size, generations, tournament_size):\n",
    "    num_cities = len(distance_matrix)\n",
    "    population = initialize_population(population_size, num_cities)\n",
    "\n",
    "    for generation in range(generations):\n",
    "        # Select parents\n",
    "        parent1 = select_parents(population, tournament_size, distance_matrix)\n",
    "        parent2 = select_parents(population, tournament_size, distance_matrix)\n",
    "\n",
    "        # Perform crossover and mutation to create offspring\n",
    "        offspring = crossover(parent1, parent2)\n",
    "        if random.random() < 0.5:\n",
    "            offspring = mutate(offspring)\n",
    "\n",
    "        # Replace the least fit individual in the population\n",
    "        population_distances = [total_distance(path, distance_matrix) for path in population]\n",
    "        min_distance_index = population_distances.index(max(population_distances))\n",
    "        population[min_distance_index] = offspring\n",
    "\n",
    "    # Return the best path found\n",
    "    best_path = min(population, key=lambda path: total_distance(path, distance_matrix))\n",
    "    return best_path, total_distance(best_path, distance_matrix)\n",
    "\n",
    "# Example:\n",
    "distance_matrix = np.array([\n",
    "    [0, 10, 15, 20],\n",
    "    [10, 5, 35, 25],\n",
    "    [15, 25, 0, 30],\n",
    "    [30, 10, 30, 0]\n",
    "])\n",
    "\n",
    "# Parameters\n",
    "population_size = 50\n",
    "generations = 1000\n",
    "tournament_size = 5\n",
    "\n",
    "# Genetic algorithm\n",
    "best_path, best_distance = genetic_algorithm(distance_matrix, population_size, generations, tournament_size)\n",
    "\n",
    "# Print the results\n",
    "print(\"Best Path:\", best_path)\n",
    "print(\"Total Distance:\", best_distance)\n"
   ]
  },
  {
   "cell_type": "markdown",
   "metadata": {},
   "source": [
    "- So, the best path would be to visit City 1 first, then City 0, then City 2 and finally City 3. A total distance of 65 is travelled whilst visiting these cities. \n",
    "- This is the minimum distance achievable among the paths considered by the genetic algorithm in the given number of generations."
   ]
  }
 ],
 "metadata": {
  "kernelspec": {
   "display_name": "base",
   "language": "python",
   "name": "python3"
  },
  "language_info": {
   "codemirror_mode": {
    "name": "ipython",
    "version": 3
   },
   "file_extension": ".py",
   "mimetype": "text/x-python",
   "name": "python",
   "nbconvert_exporter": "python",
   "pygments_lexer": "ipython3",
   "version": "3.10.13"
  }
 },
 "nbformat": 4,
 "nbformat_minor": 2
}

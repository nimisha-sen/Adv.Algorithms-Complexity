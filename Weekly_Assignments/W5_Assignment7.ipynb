{
 "cells": [
  {
   "cell_type": "markdown",
   "metadata": {},
   "source": [
    "#### Assignment 7\n",
    "The Traveling Salesman Problem (TSP) is a classic optimization problem, and a Genetic Algorithm (GA) can be used to find an approximate solution. In this example, I'll provide a simple implementation of a Genetic Algorithm for the TSP using a matrix representation for the graph."
   ]
  },
  {
   "cell_type": "code",
   "execution_count": 1,
   "metadata": {},
   "outputs": [
    {
     "name": "stdout",
     "output_type": "stream",
     "text": [
      "Best Path: [3, 1, 0, 2]\n",
      "Total Distance: 80\n"
     ]
    }
   ],
   "source": [
    "import numpy as np\n",
    "import random\n",
    "\n",
    "# Function to calculate the total distance of a path\n",
    "def calculate_total_distance(path, distance_matrix):\n",
    "    total_distance = 0\n",
    "    for i in range(len(path) - 1):\n",
    "        total_distance += distance_matrix[path[i]][path[i + 1]]\n",
    "    total_distance += distance_matrix[path[-1]][path[0]]  # Return to the starting city\n",
    "    return total_distance\n",
    "\n",
    "# Function to initialize a population of paths\n",
    "def initialize_population(population_size, num_cities):\n",
    "    population = []\n",
    "    for _ in range(population_size):\n",
    "        path = list(range(num_cities))\n",
    "        random.shuffle(path)\n",
    "        population.append(path)\n",
    "    return population\n",
    "\n",
    "# Function to perform crossover between two paths\n",
    "def crossover(parent1, parent2):\n",
    "    crossover_point = random.randint(0, len(parent1) - 1)\n",
    "    child = parent1[:crossover_point] + [city for city in parent2 if city not in parent1[:crossover_point]]\n",
    "    return child\n",
    "\n",
    "# Function to perform mutation on a path\n",
    "def mutate(path):\n",
    "    mutation_point1 = random.randint(0, len(path) - 1)\n",
    "    mutation_point2 = random.randint(0, len(path) - 1)\n",
    "    path[mutation_point1], path[mutation_point2] = path[mutation_point2], path[mutation_point1]\n",
    "    return path\n",
    "\n",
    "# Function to select parents based on tournament selection\n",
    "def select_parents(population, tournament_size, distance_matrix):\n",
    "    tournament = random.sample(population, tournament_size)\n",
    "    tournament_distances = [calculate_total_distance(path, distance_matrix) for path in tournament]\n",
    "    return tournament[tournament_distances.index(min(tournament_distances))]\n",
    "\n",
    "# Function to perform genetic algorithm\n",
    "def genetic_algorithm(distance_matrix, population_size, generations, tournament_size):\n",
    "    num_cities = len(distance_matrix)\n",
    "    population = initialize_population(population_size, num_cities)\n",
    "\n",
    "    for generation in range(generations):\n",
    "        # Select parents\n",
    "        parent1 = select_parents(population, tournament_size, distance_matrix)\n",
    "        parent2 = select_parents(population, tournament_size, distance_matrix)\n",
    "\n",
    "        # Perform crossover and mutation to create offspring\n",
    "        offspring = crossover(parent1, parent2)\n",
    "        if random.random() < 0.5:\n",
    "            offspring = mutate(offspring)\n",
    "\n",
    "        # Replace the least fit individual in the population\n",
    "        population_distances = [calculate_total_distance(path, distance_matrix) for path in population]\n",
    "        min_distance_index = population_distances.index(max(population_distances))\n",
    "        population[min_distance_index] = offspring\n",
    "\n",
    "    # Return the best path found\n",
    "    best_path = min(population, key=lambda path: calculate_total_distance(path, distance_matrix))\n",
    "    return best_path, calculate_total_distance(best_path, distance_matrix)\n",
    "\n",
    "# Example usage:\n",
    "# Define the distance matrix (replace this with your actual distance matrix)\n",
    "distance_matrix = np.array([\n",
    "    [0, 10, 15, 20],\n",
    "    [10, 0, 35, 25],\n",
    "    [15, 35, 0, 30],\n",
    "    [20, 25, 30, 0]\n",
    "])\n",
    "\n",
    "# Set algorithm parameters\n",
    "population_size = 50\n",
    "generations = 1000\n",
    "tournament_size = 5\n",
    "\n",
    "# Run the genetic algorithm\n",
    "best_path, best_distance = genetic_algorithm(distance_matrix, population_size, generations, tournament_size)\n",
    "\n",
    "# Print the results\n",
    "print(\"Best Path:\", best_path)\n",
    "print(\"Total Distance:\", best_distance)\n"
   ]
  },
  {
   "cell_type": "markdown",
   "metadata": {},
   "source": [
    "Replace the distance_matrix variable with your actual distance matrix. The genetic algorithm parameters such as population_size, generations, and tournament_size can be adjusted based on the problem and computational resources.\n",
    "\n",
    "This is a basic implementation, and you might want to experiment with different variations of the genetic algorithm and fine-tune parameters for better performance on specific instances of the TSP."
   ]
  }
 ],
 "metadata": {
  "kernelspec": {
   "display_name": "base",
   "language": "python",
   "name": "python3"
  },
  "language_info": {
   "codemirror_mode": {
    "name": "ipython",
    "version": 3
   },
   "file_extension": ".py",
   "mimetype": "text/x-python",
   "name": "python",
   "nbconvert_exporter": "python",
   "pygments_lexer": "ipython3",
   "version": "3.10.13"
  }
 },
 "nbformat": 4,
 "nbformat_minor": 2
}

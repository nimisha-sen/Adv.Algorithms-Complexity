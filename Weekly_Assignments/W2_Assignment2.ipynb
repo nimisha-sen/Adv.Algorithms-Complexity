{
 "cells": [
  {
   "cell_type": "markdown",
   "metadata": {},
   "source": [
    "#### Assignment 2\n",
    "- Quicksort algorithm here has O(n^2) worst case time.\n",
    "\n",
    "The Hoare partition scheme for QuickSort implemented in Python:"
   ]
  },
  {
   "cell_type": "code",
   "execution_count": 2,
   "metadata": {},
   "outputs": [
    {
     "name": "stdout",
     "output_type": "stream",
     "text": [
      "Original Array: [6, 2, 9, 5, 12, 8, 7, 4, 11, 19, 13, 21]\n",
      "Sorted Array: [21]\n"
     ]
    }
   ],
   "source": [
    "def hoare_partition(arr, p, r):\n",
    "    x = arr[p]\n",
    "    i = p - 1\n",
    "    j = r + 1\n",
    "    \n",
    "    while True:\n",
    "        while True:\n",
    "            j -= 1\n",
    "            if arr[j] <= x:\n",
    "                break\n",
    "        \n",
    "        while True:\n",
    "            i += 1\n",
    "            if arr[i] >= x:\n",
    "                break\n",
    "        \n",
    "        if i < j:\n",
    "            # Swap A[i] with A[j]\n",
    "            arr[i], arr[j] = arr[j], arr[i]\n",
    "        else:\n",
    "            return j\n",
    "\n",
    "def quicksort(arr):\n",
    "    if len(arr) <= 1:\n",
    "        return arr\n",
    "    else:\n",
    "        # Perform Hoare partition\n",
    "        i = hoare_partition(arr, 0, len(arr) - 1)\n",
    "        \n",
    "        # Recursive calls for the two partitions\n",
    "        first_part = quicksort(arr[:i + 1])\n",
    "        second_part = quicksort(arr[i + 1:])\n",
    "        \n",
    "        return first_part[:-1] + second_part\n",
    "\n",
    "# Demonstration\n",
    "array_to_sort = [13, 19, 9, 5, 12, 8, 7, 4, 11, 2, 6, 21]\n",
    "sorted_array = quicksort(array_to_sort)\n",
    "print(\"Original Array:\", array_to_sort)\n",
    "print(\"Sorted Array:\", sorted_array)\n"
   ]
  },
  {
   "cell_type": "markdown",
   "metadata": {},
   "source": [
    "This code includes the hoare_partition function within the quicksort function. The quicksort function uses the Hoare partition scheme to partition the array and then recursively sorts the two partitions. The output shows the original array and the sorted array after applying QuickSort using the Hoare partition scheme."
   ]
  }
 ],
 "metadata": {
  "kernelspec": {
   "display_name": "base",
   "language": "python",
   "name": "python3"
  },
  "language_info": {
   "codemirror_mode": {
    "name": "ipython",
    "version": 3
   },
   "file_extension": ".py",
   "mimetype": "text/x-python",
   "name": "python",
   "nbconvert_exporter": "python",
   "pygments_lexer": "ipython3",
   "version": "3.10.13"
  }
 },
 "nbformat": 4,
 "nbformat_minor": 2
}
